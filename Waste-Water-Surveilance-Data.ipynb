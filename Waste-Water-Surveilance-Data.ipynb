{
 "cells": [
  {
   "cell_type": "markdown",
   "metadata": {},
   "source": [
    "---\n",
    "\n",
    "## Applying Data Analysis Cycle on *Queensland Health* waste water surveilance data\n",
    "\n",
    "Using *Queensland Health* waste water surveilance data, identify regions where genetic material has been detected in waste water over a 6 month period. What insights could be gained from this data and how might the Queensland Government use them?\n",
    "\n",
    "#### Data:\n",
    "\n",
    "[Queensland wastewater surveillance for SARS-CoV-2 in 2020](https://www.data.qld.gov.au/dataset/queensland-wastewater-surveillance-for-sars-cov-2-in-2020/resource/0e7a7d67-435c-4d24-9e6f-23c28a6a8cff)\n"
   ]
  },
  {
   "cell_type": "code",
   "execution_count": 24,
   "metadata": {},
   "outputs": [],
   "source": [
    "# import libraries for this question here\n",
    "import pandas as pd\n",
    "import numpy as np\n",
    "import datetime\n",
    "import matplotlib.pyplot as py\n",
    "import seaborn as sns\n",
    "import warnings\n",
    "warnings.filterwarnings(\"ignore\")"
   ]
  },
  {
   "cell_type": "markdown",
   "metadata": {},
   "source": [
    "### 1.1 Question"
   ]
  },
  {
   "cell_type": "markdown",
   "metadata": {},
   "source": [
    "**To identify, the waste water plant sites that has frequently detected genetic material (SARS-CoV-2) over a period of 6 months, with the help of Queensland Health waste water surveilance data.  \n",
    "Also, to understand the relationship between the sample being collected and samples collected detecting genetic material for each month.**   \n",
    "*Reporting the above findings and providing relevant insights to my stakeholder, Queensland Government, so that necessary steps or measures are made*"
   ]
  },
  {
   "cell_type": "markdown",
   "metadata": {},
   "source": [
    "### 1.2 Data"
   ]
  },
  {
   "cell_type": "code",
   "execution_count": 25,
   "metadata": {},
   "outputs": [
    {
     "name": "stdout",
     "output_type": "stream",
     "text": [
      "<class 'pandas.core.frame.DataFrame'>\n",
      "RangeIndex: 727 entries, 0 to 726\n",
      "Data columns (total 5 columns):\n",
      " #   Column           Non-Null Count  Dtype  \n",
      "---  ------           --------------  -----  \n",
      " 0   Sampling date    727 non-null    object \n",
      " 1   Site             727 non-null    object \n",
      " 2   Result           727 non-null    object \n",
      " 3   Site population  712 non-null    float64\n",
      " 4   Notes            262 non-null    object \n",
      "dtypes: float64(1), object(4)\n",
      "memory usage: 28.5+ KB\n",
      "None\n"
     ]
    }
   ],
   "source": [
    "# Import the data\n",
    "df_1 = pd.read_csv('Datas/queensland-wastewater-surveillance-for-sars-cov-2-in-2020v1.1.csv')\n",
    "print(df_1.info())"
   ]
  },
  {
   "cell_type": "markdown",
   "metadata": {},
   "source": [
    "### Metadata"
   ]
  },
  {
   "cell_type": "markdown",
   "metadata": {},
   "source": [
    "| **Column** | **Type** | **Description** |\n",
    "| --- | --- | --- |\n",
    "| Sampling date | timestamp | Date of wastewater sample collection |\n",
    "| Site | text | Name of wastewater treatment plant  |\n",
    "| Result | text | Either detected or not detected for each sample collected |\n",
    "| Site population | integer | Estimated population serviced by wastewater treatment plant |\n",
    "| Notes | text | Mentioning if sites have been reanalysed"
   ]
  },
  {
   "cell_type": "markdown",
   "metadata": {},
   "source": [
    "### *Clean/prepare the data for analysis*"
   ]
  },
  {
   "cell_type": "code",
   "execution_count": 26,
   "metadata": {},
   "outputs": [
    {
     "name": "stdout",
     "output_type": "stream",
     "text": [
      "<class 'pandas.core.frame.DataFrame'>\n",
      "Index: 712 entries, 0 to 726\n",
      "Data columns (total 4 columns):\n",
      " #   Column           Non-Null Count  Dtype  \n",
      "---  ------           --------------  -----  \n",
      " 0   Sampling date    712 non-null    object \n",
      " 1   Site             712 non-null    object \n",
      " 2   Result           712 non-null    object \n",
      " 3   Site population  712 non-null    float64\n",
      "dtypes: float64(1), object(3)\n",
      "memory usage: 27.8+ KB\n",
      "None\n"
     ]
    }
   ],
   "source": [
    "# As 'Notes' column is having more than half entries missing. Instead of dropping each missing rows,\n",
    "# droping the whole column won't impact much on the dataset.\n",
    "\n",
    "df_1 = df_1.drop('Notes', axis = 1)\n",
    "\n",
    "# Variable 'Site population' has 15 missing entries; however, on close examination of the dataset all the missing entries \n",
    "# are for the 2 locations of Cannonvale i.e., Cannonvale upstream location A and location B. Intererstingly both the locations\n",
    "# have shown non-detected results for genetic material. Thus, removing all the rows with N/A (missing site population) values\n",
    "# won't affect the dataset and rather enhance the data quality for analysis.\n",
    " \n",
    "df_1_clean = df_1.dropna(subset =['Site population'])\n",
    "print(df_1_clean.info())"
   ]
  },
  {
   "cell_type": "markdown",
   "metadata": {},
   "source": [
    "### 1.3 Analysis"
   ]
  },
  {
   "cell_type": "markdown",
   "metadata": {},
   "source": [
    "Analyse the data - ensure that you at least use the required technique"
   ]
  },
  {
   "cell_type": "code",
   "execution_count": 27,
   "metadata": {},
   "outputs": [
    {
     "data": {
      "text/plain": [
       "array(['Coombabah', 'Elanora', 'Loganholme', 'Merrimac', 'Pimpama',\n",
       "       'Goodna', 'Oxley Creek', 'Bundamba', 'Carole Park', 'Fairfield',\n",
       "       'Gibson Island', 'Luggage Point', 'Sandgate', 'Wacol', 'Wynnum',\n",
       "       'Cairns North', 'Cairns South', 'Mackay South', 'Maroochydore',\n",
       "       'Noosa', 'Cannonvale', 'Cleveland Bay', 'Pulgul', 'Bundaberg',\n",
       "       'Stanthorpe', 'Warwick', 'Rockhampton North', 'Caboolture South',\n",
       "       'Condon', 'Kawana', 'Mount St John', 'Nambour', 'Port Douglas',\n",
       "       'Redcliffe', 'Capalaba', 'Cleveland', 'Thorneside',\n",
       "       'Victoria Point', 'Maryborough'], dtype=object)"
      ]
     },
     "execution_count": 27,
     "metadata": {},
     "output_type": "execute_result"
    }
   ],
   "source": [
    "pd.unique(df_1_clean.Site) # Site names we would be investigating upon"
   ]
  },
  {
   "cell_type": "markdown",
   "metadata": {},
   "source": [
    "**Analysis 1**"
   ]
  },
  {
   "cell_type": "code",
   "execution_count": 28,
   "metadata": {
    "scrolled": true,
    "tags": []
   },
   "outputs": [],
   "source": [
    "# To identify those Sites that are frequently detecting genetic material and explore further.\n",
    "\n",
    "result_data = pd.DataFrame(df_1_clean.groupby(['Result'])['Site'].value_counts())\n",
    "result_data.rename(columns={'Result': 'Result', 'Site': 'Site', 'Site': 'Count'}, inplace = True)\n",
    "Detected_data = result_data.loc['Detect']"
   ]
  },
  {
   "cell_type": "markdown",
   "metadata": {},
   "source": [
    "(My hypothesis) -> Let's say sites where genetic material have been detected for more than 5 times from July till December\n",
    "                   in 2019 are the ones that I am mostly concerned about."
   ]
  },
  {
   "cell_type": "code",
   "execution_count": 29,
   "metadata": {},
   "outputs": [
    {
     "data": {
      "text/html": [
       "<div>\n",
       "<style scoped>\n",
       "    .dataframe tbody tr th:only-of-type {\n",
       "        vertical-align: middle;\n",
       "    }\n",
       "\n",
       "    .dataframe tbody tr th {\n",
       "        vertical-align: top;\n",
       "    }\n",
       "\n",
       "    .dataframe thead th {\n",
       "        text-align: right;\n",
       "    }\n",
       "</style>\n",
       "<table border=\"1\" class=\"dataframe\">\n",
       "  <thead>\n",
       "    <tr style=\"text-align: right;\">\n",
       "      <th></th>\n",
       "      <th>count</th>\n",
       "    </tr>\n",
       "    <tr>\n",
       "      <th>Site</th>\n",
       "      <th></th>\n",
       "    </tr>\n",
       "  </thead>\n",
       "  <tbody>\n",
       "    <tr>\n",
       "      <th>Goodna</th>\n",
       "      <td>11</td>\n",
       "    </tr>\n",
       "    <tr>\n",
       "      <th>Coombabah</th>\n",
       "      <td>10</td>\n",
       "    </tr>\n",
       "    <tr>\n",
       "      <th>Loganholme</th>\n",
       "      <td>9</td>\n",
       "    </tr>\n",
       "    <tr>\n",
       "      <th>Elanora</th>\n",
       "      <td>6</td>\n",
       "    </tr>\n",
       "    <tr>\n",
       "      <th>Cairns North</th>\n",
       "      <td>6</td>\n",
       "    </tr>\n",
       "    <tr>\n",
       "      <th>Wynnum</th>\n",
       "      <td>6</td>\n",
       "    </tr>\n",
       "    <tr>\n",
       "      <th>Fairfield</th>\n",
       "      <td>6</td>\n",
       "    </tr>\n",
       "  </tbody>\n",
       "</table>\n",
       "</div>"
      ],
      "text/plain": [
       "              count\n",
       "Site               \n",
       "Goodna           11\n",
       "Coombabah        10\n",
       "Loganholme        9\n",
       "Elanora           6\n",
       "Cairns North      6\n",
       "Wynnum            6\n",
       "Fairfield         6"
      ]
     },
     "execution_count": 29,
     "metadata": {},
     "output_type": "execute_result"
    }
   ],
   "source": [
    "# Filtering sites with the detection count of more than 5 from the dataset.\n",
    "Detected_data.loc[Detected_data['count']>5]"
   ]
  },
 
  {
   "cell_type": "markdown",
   "metadata": {},
   "source": [
    "Further exploring each of the above sites detecting more than 5 times in 6 months with respect to the date of sample collection. "
   ]
  },
  {
   "cell_type": "code",
   "execution_count": 53,
   "metadata": {
    "scrolled": true,
    "tags": []
   },
   "outputs": [
    {
     "name": "stdout",
     "output_type": "stream",
     "text": [
      "\n",
      "                                          Elanora\n",
      "\n",
      "    Sampling date  Result\n",
      "1      22/07/2020  Detect\n",
      "19      3/08/2020  Detect\n",
      "36      5/08/2020  Detect\n",
      "206    23/09/2020  Detect\n",
      "582    14/12/2020  Detect\n",
      "710    30/12/2020  Detect\n",
      "\n",
      "Total detected count:  6\n",
      "\n",
      "                                          Loganholme\n",
      "\n",
      "    Sampling date  Result\n",
      "2      22/07/2020  Detect\n",
      "7      29/07/2020  Detect\n",
      "12     31/07/2020  Detect\n",
      "23      3/08/2020  Detect\n",
      "43      6/08/2020  Detect\n",
      "52      9/08/2020  Detect\n",
      "64     11/08/2020  Detect\n",
      "118    26/08/2020  Detect\n",
      "696    29/12/2020  Detect\n",
      "\n",
      "Total detected count:  9\n",
      "\n",
      "                                          Coombabah\n",
      "\n",
      "    Sampling date  Result\n",
      "5      29/07/2020  Detect\n",
      "18      3/08/2020  Detect\n",
      "35      5/08/2020  Detect\n",
      "163     9/09/2020  Detect\n",
      "182    15/09/2020  Detect\n",
      "224    29/09/2020  Detect\n",
      "348     2/11/2020  Detect\n",
      "387    10/11/2020  Detect\n",
      "505     2/12/2020  Detect\n",
      "561     9/12/2020  Detect\n",
      "\n",
      "Total detected count:  10\n",
      "\n",
      "                                          Goodna\n",
      "\n",
      "    Sampling date  Result\n",
      "11     31/07/2020  Detect\n",
      "63     11/08/2020  Detect\n",
      "84     18/08/2020  Detect\n",
      "91     19/08/2020  Detect\n",
      "176    14/09/2020  Detect\n",
      "207    23/09/2020  Detect\n",
      "216    25/09/2020  Detect\n",
      "230    30/09/2020  Detect\n",
      "242     2/10/2020  Detect\n",
      "261     7/10/2020  Detect\n",
      "658    22/12/2020  Detect\n",
      "\n",
      "Total detected count:  11\n",
      "\n",
      "                                          Fairfield\n",
      "\n",
      "    Sampling date  Result\n",
      "32      4/08/2020  Detect\n",
      "114    25/08/2020  Detect\n",
      "140     2/09/2020  Detect\n",
      "175    14/09/2020  Detect\n",
      "656    22/12/2020  Detect\n",
      "680    23/12/2020  Detect\n",
      "\n",
      "Total detected count:  6\n",
      "\n",
      "                                          Wynnum\n",
      "\n",
      "    Sampling date  Result\n",
      "127    28/08/2020  Detect\n",
      "281    13/10/2020  Detect\n",
      "322    26/10/2020  Detect\n",
      "430    17/11/2020  Detect\n",
      "648    21/12/2020  Detect\n",
      "673    22/12/2020  Detect\n",
      "\n",
      "Total detected count:  6\n",
      "\n",
      "                                          Cairns North\n",
      "\n",
      "    Sampling date  Result\n",
      "420    17/11/2020  Detect\n",
      "453    24/11/2020  Detect\n",
      "596    15/12/2020  Detect\n",
      "652    22/12/2020  Detect\n",
      "674    23/12/2020  Detect\n",
      "704    30/12/2020  Detect\n",
      "\n",
      "Total detected count:  6\n"
     ]
    }
   ],
   "source": [
    "# For each site investigating the first and last date of genetic material detection:\n",
    "test = df_1_clean[df_1_clean['Result'] == 'Detect']\n",
    "test_1 = test[test['Site'].isin(['Goodna','Coombabah','Loganholme','Cairns North','Elanora','Fairfield','Wynnum'])]\n",
    "site_grouped = test_1.groupby(['Site'], sort = False)\n",
    "\n",
    "# Using for loop to print out grouped items for each site.\n",
    "for name, group in site_grouped:\n",
    "        print()\n",
    "        print(\"                                          \"+ name[0] + \"\\n\")\n",
    "        print(group.drop(['Site', 'Site population'], axis = 1))\n",
    "        Count = group['Result'].count()\n",
    "        print()\n",
    "        print('Total detected count: ', Count)        "
   ]
  },
  {
   "cell_type": "markdown",
   "metadata": {},
   "source": [
    "*Insights*\n",
    "\n",
    "1) Out of 39 sites 6 sites i.e., Goodna (11), Coombabah(10), Loganholme(9), Cairns North(6), Elanora(6), Fairfield(6), Wynnum(6) are the sites government should be concerned more. (Based on my hypothesis)\n",
    "\n",
    "2) Site 'Cairns North' didn't detect anything for first 4 months; however, detected 6 times in last 2 months. "
   ]
  },
  {
   "cell_type": "markdown",
   "metadata": {},
   "source": [
    "**Analysis 2**"
   ]
  },
  {
   "cell_type": "code",
   "execution_count": 54,
   "metadata": {
    "scrolled": true,
    "tags": []
   },
   "outputs": [
    {
     "name": "stdout",
     "output_type": "stream",
     "text": [
      "<class 'pandas.core.frame.DataFrame'>\n",
      "Index: 712 entries, 0 to 726\n",
      "Data columns (total 3 columns):\n",
      " #   Column         Non-Null Count  Dtype         \n",
      "---  ------         --------------  -----         \n",
      " 0   Sampling date  712 non-null    datetime64[ns]\n",
      " 1   Site           712 non-null    object        \n",
      " 2   Result         712 non-null    object        \n",
      "dtypes: datetime64[ns](1), object(2)\n",
      "memory usage: 22.2+ KB\n",
      "None\n"
     ]
    }
   ],
   "source": [
    "# Now investigating the results that have detected genetic material each month (July till December in 2020):\n",
    "\n",
    "Test = df_1_clean.filter(items = ['Sampling date','Site','Result']) # Selecting 3 columns ('Sampling date', 'Site' & 'Result')\n",
    "# Converting 'Sampling date' data type from object to datetime format\n",
    "Test['Sampling date'] = pd.to_datetime(Test['Sampling date'], dayfirst = True) \n",
    "print(Test.info())"
   ]
  },
  {
   "cell_type": "markdown",
   "metadata": {},
   "source": [
    "*Below is the summary of monthly analysis of collected samples and detected samples from JULY till DECEMBER in 2020*"
   ]
  },
  {
   "cell_type": "code",
   "execution_count": 55,
   "metadata": {
    "scrolled": true,
    "tags": []
   },
   "outputs": [
    {
     "name": "stdout",
     "output_type": "stream",
     "text": [
      "                                  JULY\n",
      "\n",
      "   Sampling date        Site  Result\n",
      "1     2020-07-22     Elanora  Detect\n",
      "2     2020-07-22  Loganholme  Detect\n",
      "4     2020-07-22     Pimpama  Detect\n",
      "5     2020-07-29   Coombabah  Detect\n",
      "7     2020-07-29  Loganholme  Detect\n",
      "8     2020-07-29    Merrimac  Detect\n",
      "11    2020-07-31      Goodna  Detect\n",
      "12    2020-07-31  Loganholme  Detect\n",
      "\n",
      "Total sample collection done in the month of July is 14 out of which 8 samples detected genetic material(SARS-CoV-2)\n",
      "\n",
      "\n",
      "                                  AUGUST\n",
      "\n",
      "    Sampling date           Site  Result\n",
      "17     2020-08-03    Carole Park  Detect\n",
      "18     2020-08-03      Coombabah  Detect\n",
      "19     2020-08-03        Elanora  Detect\n",
      "23     2020-08-03     Loganholme  Detect\n",
      "24     2020-08-03  Luggage Point  Detect\n",
      "25     2020-08-03       Merrimac  Detect\n",
      "29     2020-08-03          Wacol  Detect\n",
      "32     2020-08-04      Fairfield  Detect\n",
      "35     2020-08-05      Coombabah  Detect\n",
      "36     2020-08-05        Elanora  Detect\n",
      "38     2020-08-05       Merrimac  Detect\n",
      "39     2020-08-05        Pimpama  Detect\n",
      "40     2020-08-05       Sandgate  Detect\n",
      "43     2020-08-06     Loganholme  Detect\n",
      "44     2020-08-06  Luggage Point  Detect\n",
      "49     2020-08-07    Oxley Creek  Detect\n",
      "52     2020-08-09     Loganholme  Detect\n",
      "54     2020-08-10  Gibson Island  Detect\n",
      "63     2020-08-11         Goodna  Detect\n",
      "64     2020-08-11     Loganholme  Detect\n",
      "72     2020-08-13       Bundamba  Detect\n",
      "84     2020-08-18         Goodna  Detect\n",
      "85     2020-08-18   Mackay South  Detect\n",
      "91     2020-08-19         Goodna  Detect\n",
      "94     2020-08-19        Pimpama  Detect\n",
      "96     2020-08-20     Cannonvale  Detect\n",
      "111    2020-08-25     Cannonvale  Detect\n",
      "114    2020-08-25      Fairfield  Detect\n",
      "115    2020-08-25   Maroochydore  Detect\n",
      "118    2020-08-26     Loganholme  Detect\n",
      "124    2020-08-27  Gibson Island  Detect\n",
      "125    2020-08-27          Wacol  Detect\n",
      "126    2020-08-28       Sandgate  Detect\n",
      "127    2020-08-28         Wynnum  Detect\n",
      "131    2020-08-31  Luggage Point  Detect\n",
      "\n",
      "Total sample collection done in the month of August is 119 out of which 35 samples detected genetic material(SARS-CoV-2)\n",
      "\n",
      "\n",
      "                                  SEPTEMBER\n",
      "\n",
      "    Sampling date               Site  Result\n",
      "137    2020-09-02           Bundamba  Detect\n",
      "140    2020-09-02          Fairfield  Detect\n",
      "142    2020-09-02           Merrimac  Detect\n",
      "149    2020-09-04              Wacol  Detect\n",
      "160    2020-09-08             Pulgul  Detect\n",
      "163    2020-09-09          Coombabah  Detect\n",
      "172    2020-09-11              Wacol  Detect\n",
      "175    2020-09-14          Fairfield  Detect\n",
      "176    2020-09-14             Goodna  Detect\n",
      "181    2020-09-15      Cleveland Bay  Detect\n",
      "182    2020-09-15          Coombabah  Detect\n",
      "185    2020-09-15            Warwick  Detect\n",
      "195    2020-09-21         Cannonvale  Detect\n",
      "199    2020-09-22       Cairns South  Detect\n",
      "206    2020-09-23            Elanora  Detect\n",
      "207    2020-09-23             Goodna  Detect\n",
      "210    2020-09-23            Pimpama  Detect\n",
      "215    2020-09-25        Carole Park  Detect\n",
      "216    2020-09-25             Goodna  Detect\n",
      "219    2020-09-28         Cannonvale  Detect\n",
      "222    2020-09-28  Rockhampton North  Detect\n",
      "224    2020-09-29          Coombabah  Detect\n",
      "230    2020-09-30             Goodna  Detect\n",
      "\n",
      "Total sample collection done in the month of September is 104 out of which 23 samples detected genetic material(SARS-CoV-2)\n",
      "\n",
      "\n",
      "                                  OCTOBER\n",
      "\n",
      "    Sampling date           Site  Result\n",
      "242    2020-10-02         Goodna  Detect\n",
      "244    2020-10-05  Cleveland Bay  Detect\n",
      "261    2020-10-07         Goodna  Detect\n",
      "271    2020-10-12       Sandgate  Detect\n",
      "277    2020-10-13   Maroochydore  Detect\n",
      "281    2020-10-13         Wynnum  Detect\n",
      "317    2020-10-22    Carole Park  Detect\n",
      "322    2020-10-26         Wynnum  Detect\n",
      "\n",
      "Total sample collection done in the month of October is 104 out of which 8 samples detected genetic material(SARS-CoV-2)\n",
      "\n",
      "\n",
      "                                  NOVEMBER\n",
      "\n",
      "    Sampling date          Site  Result\n",
      "348    2020-11-02     Coombabah  Detect\n",
      "387    2020-11-10     Coombabah  Detect\n",
      "420    2020-11-17  Cairns North  Detect\n",
      "430    2020-11-17        Wynnum  Detect\n",
      "452    2020-11-24     Bundaberg  Detect\n",
      "453    2020-11-24  Cairns North  Detect\n",
      "460    2020-11-25  Cairns South  Detect\n",
      "\n",
      "Total sample collection done in the month of November is 124 out of which 7 samples detected genetic material(SARS-CoV-2)\n",
      "\n",
      "\n",
      "                                  DECEMBER\n",
      "\n",
      "    Sampling date            Site  Result\n",
      "505    2020-12-02       Coombabah  Detect\n",
      "561    2020-12-09       Coombabah  Detect\n",
      "571    2020-12-11     Carole Park  Detect\n",
      "576    2020-12-11           Wacol  Detect\n",
      "582    2020-12-14         Elanora  Detect\n",
      "596    2020-12-15    Cairns North  Detect\n",
      "599    2020-12-15          Condon  Detect\n",
      "621    2020-12-16       Cleveland  Detect\n",
      "648    2020-12-21          Wynnum  Detect\n",
      "649    2020-12-22       Bundaberg  Detect\n",
      "652    2020-12-22    Cairns North  Detect\n",
      "656    2020-12-22       Fairfield  Detect\n",
      "658    2020-12-22          Goodna  Detect\n",
      "663    2020-12-22     Maryborough  Detect\n",
      "665    2020-12-22         Nambour  Detect\n",
      "667    2020-12-22     Oxley Creek  Detect\n",
      "669    2020-12-22       Redcliffe  Detect\n",
      "673    2020-12-22          Wynnum  Detect\n",
      "674    2020-12-23    Cairns North  Detect\n",
      "680    2020-12-23       Fairfield  Detect\n",
      "686    2020-12-23  Victoria Point  Detect\n",
      "689    2020-12-24        Merrimac  Detect\n",
      "690    2020-12-28        Bundamba  Detect\n",
      "696    2020-12-29      Loganholme  Detect\n",
      "701    2020-12-29      Stanthorpe  Detect\n",
      "703    2020-12-30       Bundaberg  Detect\n",
      "704    2020-12-30    Cairns North  Detect\n",
      "710    2020-12-30         Elanora  Detect\n",
      "723    2020-12-30         Warwick  Detect\n",
      "\n",
      "Total sample collection done in the month of December is 247 out of which 29 samples detected genetic material(SARS-CoV-2)\n"
     ]
    }
   ],
   "source": [
    "                                                # JULY\n",
    "    \n",
    "July = Test[Test['Sampling date'].dt.strftime('%Y-%m') == '2020-07']   # Visualisation\n",
    "Detected_samples_Jul = July.loc[July['Result'] == 'Detect'] # Detected samples in August  VIZ\n",
    "Detected_count_Jul = Detected_samples_Jul['Result'].count() # Detected samples count      \n",
    "Samples_coll_Jul = July['Sampling date'].count() # To count number of sampling done in August\n",
    "print('                                  JULY')\n",
    "print('')\n",
    "print(Detected_samples_Jul)\n",
    "print('')\n",
    "print(\"Total sample collection done in the month of July is \" + str(Samples_coll_Jul) +\n",
    "    \" out of which \" + str(Detected_count_Jul) + \" samples detected genetic material(SARS-CoV-2)\")\n",
    "print('\\n')\n",
    "\n",
    "                                              \n",
    "                                               # AUGUST\n",
    "    \n",
    "August = Test[Test['Sampling date'].dt.strftime('%Y-%m') == '2020-08']\n",
    "Samples_coll_Aug = August['Sampling date'].count() # To count number of sampling done in August\n",
    "Detected_samples_Aug = August.loc[August['Result'] == 'Detect'] # Detected samples in August\n",
    "Detected_count_Aug = Detected_samples_Aug['Result'].count() # Detected samples count\n",
    "print('                                  AUGUST')\n",
    "print('')\n",
    "print(Detected_samples_Aug)\n",
    "print('')\n",
    "print(\"Total sample collection done in the month of August is \" + str(Samples_coll_Aug) +\n",
    "    \" out of which \" + str(Detected_count_Aug) + \" samples detected genetic material(SARS-CoV-2)\")\n",
    "print('\\n')\n",
    "\n",
    "                                                \n",
    "                                               # SEPTEMBER\n",
    "    \n",
    "September = Test[Test['Sampling date'].dt.strftime('%Y-%m') == '2020-09']\n",
    "Samples_coll_Sep = September['Sampling date'].count() # To count number of sampling done in August\n",
    "Detected_samples_Sep = September.loc[September['Result'] == 'Detect'] # Detected samples in August\n",
    "Detected_count_Sep = Detected_samples_Sep['Result'].count() # Detected samples count\n",
    "print('                                  SEPTEMBER')\n",
    "print('')\n",
    "print(Detected_samples_Sep)\n",
    "print('')\n",
    "print(\"Total sample collection done in the month of September is \" + str(Samples_coll_Sep) +\n",
    "      \" out of which \" + str(Detected_count_Sep) + \" samples detected genetic material(SARS-CoV-2)\")\n",
    "print('\\n')\n",
    "\n",
    "\n",
    "                                              # October\n",
    "    \n",
    "October = Test[Test['Sampling date'].dt.strftime('%Y-%m') == '2020-10']\n",
    "Samples_coll_Oct = October['Sampling date'].count() # To count number of sampling done in August\n",
    "Detected_samples_Oct = October.loc[October['Result'] == 'Detect'] # Detected samples in August\n",
    "Detected_count_Oct = Detected_samples_Oct['Result'].count() # Detected samples count\n",
    "print('                                  OCTOBER')\n",
    "print('')\n",
    "print(Detected_samples_Oct)\n",
    "print('')\n",
    "print(\"Total sample collection done in the month of October is \" + str(Samples_coll_Oct) +\n",
    "      \" out of which \" + str(Detected_count_Oct) + \" samples detected genetic material(SARS-CoV-2)\")\n",
    "print('\\n')\n",
    "\n",
    "\n",
    "                                              # November\n",
    "    \n",
    "November = Test[Test['Sampling date'].dt.strftime('%Y-%m') == '2020-11']\n",
    "Samples_coll_Nov = November['Sampling date'].count() # To count number of sampling done in August\n",
    "Detected_samples_Nov = November.loc[November['Result'] == 'Detect'] # Detected samples in August\n",
    "Detected_count_Nov = Detected_samples_Nov['Result'].count() # Detected samples count\n",
    "print('                                  NOVEMBER')\n",
    "print('')\n",
    "print(Detected_samples_Nov)\n",
    "print('')\n",
    "print(\"Total sample collection done in the month of November is \" + str(Samples_coll_Nov) +\n",
    "      \" out of which \" + str(Detected_count_Nov) + \" samples detected genetic material(SARS-CoV-2)\")\n",
    "print('\\n')\n",
    "\n",
    "\n",
    "                                              # December\n",
    "    \n",
    "December = Test[Test['Sampling date'].dt.strftime('%Y-%m') == '2020-12']\n",
    "Samples_coll_Dec = December['Sampling date'].count() # To count number of sampling done in August\n",
    "Detected_samples_Dec = December.loc[December['Result'] == 'Detect'] # Detected samples in August\n",
    "Detected_count_Dec = Detected_samples_Dec['Result'].count() # Detected samples count\n",
    "print('                                  DECEMBER')\n",
    "print('')\n",
    "print(Detected_samples_Dec)\n",
    "print('')\n",
    "print(\"Total sample collection done in the month of December is \" + str(Samples_coll_Dec) +\n",
    "      \" out of which \" + str(Detected_count_Dec) + \" samples detected genetic material(SARS-CoV-2)\")\n"
   ]
  },
  {
   "cell_type": "code",
   "execution_count": 56,
   "metadata": {},
   "outputs": [
    {
     "data": {
      "text/plain": [
       "{'Jul': 14, 'Aug': 119, 'Sep': 104, 'Oct': 104, 'Nov': 124, 'Dec': 247}"
      ]
     },
     "execution_count": 56,
     "metadata": {},
     "output_type": "execute_result"
    }
   ],
   "source": [
    "# Creating a dictionary to store the count record of every collected samples in a perticular month \n",
    "Sampling_dates_dictionary = {'Jul':Samples_coll_Jul, 'Aug':Samples_coll_Aug, 'Sep':Samples_coll_Sep, \n",
    "                             'Oct':Samples_coll_Oct,'Nov': Samples_coll_Nov, 'Dec': Samples_coll_Dec}\n",
    "\n",
    "# Creating a dataframe for collected samples count from the sampling_dates_dictionary\n",
    "Sampling_dates_df = pd.DataFrame(list(Sampling_dates_dictionary.items()),columns = ['Months','Sample_count']) \n",
    "Sampling_dates_dictionary"
   ]
  },
  {
   "cell_type": "code",
   "execution_count": 57,
   "metadata": {},
   "outputs": [
    {
     "data": {
      "text/plain": [
       "{'Jul': 8, 'Aug': 35, 'Sep': 23, 'Oct': 8, 'Nov': 7, 'Dec': 29}"
      ]
     },
     "execution_count": 57,
     "metadata": {},
     "output_type": "execute_result"
    }
   ],
   "source": [
    "# Now creating a dictionary to store the count record of detected samples in a perticular month \n",
    "Detected_dates_dictionary = {'Jul':Detected_count_Jul, 'Aug':Detected_count_Aug, 'Sep':Detected_count_Sep, \n",
    "                             'Oct':Detected_count_Oct,'Nov': Detected_count_Nov, 'Dec': Detected_count_Dec}\n",
    "\n",
    "# Similarly creating another dataframe for detected samples count from the detected_dates_dictionary\n",
    "Detected_dates_df = pd.DataFrame(list(Detected_dates_dictionary.items()),columns = ['Months','Detect_count'])\n",
    "Detected_dates_dictionary"
   ]
  },
  {
   "cell_type": "code",
   "execution_count": 58,
   "metadata": {},
   "outputs": [
    {
     "name": "stdout",
     "output_type": "stream",
     "text": [
      "***************************\n",
      "  Months  Sample_count\n",
      "0    Jul            14\n",
      "1    Aug           119\n",
      "2    Sep           104\n",
      "3    Oct           104\n",
      "4    Nov           124\n",
      "5    Dec           247\n",
      "\n",
      "***************************\n",
      "  Months  Detect_count\n",
      "0    Jul             8\n",
      "1    Aug            35\n",
      "2    Sep            23\n",
      "3    Oct             8\n",
      "4    Nov             7\n",
      "5    Dec            29\n"
     ]
    }
   ],
   "source": [
    "print('***************************')\n",
    "print(Sampling_dates_df)\n",
    "print()\n",
    "print('***************************')\n",
    "print(Detected_dates_df)"
   ]
  },
  {
   "cell_type": "markdown",
   "metadata": {},
   "source": [
    "**Analysis 3**"
   ]
  },
  {
   "cell_type": "code",
   "execution_count": 87,
   "metadata": {},
   "outputs": [
    {
     "name": "stdout",
     "output_type": "stream",
     "text": [
      "  Months  Sample_count  Detect_count\n",
      "0    Jul            14             8\n",
      "1    Aug           119            35\n",
      "2    Sep           104            23\n",
      "3    Oct           104             8\n",
      "4    Nov           124             7\n",
      "5    Dec           247            29\n"
     ]
    }
   ],
   "source": [
    "# Examining the tables having monthly Sample_count and Detect_count and finding any relation between the 2.\n",
    "months = list(Sampling_dates_df.Months)\n",
    "Sampling_count = list(Sampling_dates_df.Sample_count)\n",
    "Detect_count = list(Detected_dates_df.Detect_count)\n",
    "\n",
    "Sampling_dates_df['Detect_count'] = Detect_count\n",
    "Data_count_summary = Sampling_dates_df\n",
    "print(Data_count_summary)\n",
    "Data_count_summary = Data_count_summary[['Sample_count','Detect_count']]"
   ]
  },
  {
   "cell_type": "code",
   "execution_count": 88,
   "metadata": {},
   "outputs": [
    {
     "data": {
      "text/html": [
       "<div>\n",
       "<style scoped>\n",
       "    .dataframe tbody tr th:only-of-type {\n",
       "        vertical-align: middle;\n",
       "    }\n",
       "\n",
       "    .dataframe tbody tr th {\n",
       "        vertical-align: top;\n",
       "    }\n",
       "\n",
       "    .dataframe thead th {\n",
       "        text-align: right;\n",
       "    }\n",
       "</style>\n",
       "<table border=\"1\" class=\"dataframe\">\n",
       "  <thead>\n",
       "    <tr style=\"text-align: right;\">\n",
       "      <th></th>\n",
       "      <th>Sample_count</th>\n",
       "      <th>Detect_count</th>\n",
       "    </tr>\n",
       "  </thead>\n",
       "  <tbody>\n",
       "    <tr>\n",
       "      <th>Sample_count</th>\n",
       "      <td>1.000000</td>\n",
       "      <td>0.540103</td>\n",
       "    </tr>\n",
       "    <tr>\n",
       "      <th>Detect_count</th>\n",
       "      <td>0.540103</td>\n",
       "      <td>1.000000</td>\n",
       "    </tr>\n",
       "  </tbody>\n",
       "</table>\n",
       "</div>"
      ],
      "text/plain": [
       "              Sample_count  Detect_count\n",
       "Sample_count      1.000000      0.540103\n",
       "Detect_count      0.540103      1.000000"
      ]
     },
     "execution_count": 88,
     "metadata": {},
     "output_type": "execute_result"
    }
   ],
   "source": [
    "# Looking at the relationship between Sample_count data and Detected_count data\n",
    "Correlation_data = Data_count_summary.corr()\n",
    "Correlation_data"
   ]
  },
  {
   "cell_type": "markdown",
   "metadata": {},
   "source": [
    "From the above data on correlation between Sample_count and Detect_count we can say, both the variables are moderately correlated"
   ]
  },
  {
   "cell_type": "markdown",
   "metadata": {},
   "source": [
    "### 1.4 Visualisation"
   ]
  },
  {
   "cell_type": "markdown",
   "metadata": {},
   "source": [
    "*Visualising the results*"
   ]
  },
  {
   "cell_type": "markdown",
   "metadata": {},
   "source": [
    "**Visualization 1**"
   ]
  },
  {
   "cell_type": "code",
   "execution_count": 61,
   "metadata": {},
   "outputs": [],
   "source": [
    "# Cleaning and formatting the dataset for the monthly visualization of detection count\n",
    "df_1_clean['Result_enc'] = df_1_clean.Result.map({\"Non-detect\": 0, \"Detect\": 1})\n",
    "df_1_clean['Sampling date'] = pd.to_datetime(Test['Sampling date'], dayfirst = True)\n",
    "df_1_clean['Month'] = df_1_clean['Sampling date'].dt.month\n",
    "Viz_1_df = df_1_clean.drop(['Sampling date','Result', 'Site population'], axis='columns')\n",
    "Viz_1_g = Viz_1_df.groupby(['Site', 'Month'], sort = False)['Result_enc'].sum()\n",
    "Viz1_df = Viz_1_g.reset_index()\n",
    "\n",
    "# Assigning derived dataframe with relevant columns for viz to the sites with high detection count\n",
    "Goodna = Viz1_df[Viz1_df['Site']=='Goodna']\n",
    "Coombabah = Viz1_df[Viz1_df['Site']=='Coombabah']\n",
    "Loganholme = Viz1_df[Viz1_df['Site']=='Loganholme']\n",
    "Cairns_North = Viz1_df[Viz1_df['Site']=='Cairns North']\n",
    "Elanora = Viz1_df[Viz1_df['Site']=='Elanora']\n",
    "Fairfield = Viz1_df[Viz1_df['Site']=='Fairfield']\n",
    "Wynnum = Viz1_df[Viz1_df['Site']=='Wynnum']"
   ]
  },
  {
   "cell_type": "code",
   "execution_count": 17,
   "metadata": {
    "scrolled": true,
    "tags": []
   },
   "outputs": [
    {
     "data": {
      "image/png": "[encoded data removed]",
      "text/plain": [
       "<Figure size 432x288 with 1 Axes>"
      ]
     },
     "metadata": {
      "needs_background": "light"
     },
     "output_type": "display_data"
    },
    {
     "data": {
      "image/png": "[encoded data removed]",
      "text/plain": [
       "<Figure size 432x288 with 1 Axes>"
      ]
     },
     "metadata": {
      "needs_background": "light"
     },
     "output_type": "display_data"
    },
    {
     "data": {
      "image/png": "[encoded data removed]",
      "text/plain": [
       "<Figure size 432x288 with 1 Axes>"
      ]
     },
     "metadata": {
      "needs_background": "light"
     },
     "output_type": "display_data"
    },
    {
     "data": {
      "image/png": "[encoded data removed]",
      "text/plain": [
       "<Figure size 432x288 with 1 Axes>"
      ]
     },
     "metadata": {
      "needs_background": "light"
     },
     "output_type": "display_data"
    },
    {
     "data": {
      "image/png": "[encoded data removed]",
      "text/plain": [
       "<Figure size 432x288 with 1 Axes>"
      ]
     },
     "metadata": {
      "needs_background": "light"
     },
     "output_type": "display_data"
    },
    {
     "data": {
      "image/png": "[encoded data removed]",
      "text/plain": [
       "<Figure size 432x288 with 1 Axes>"
      ]
     },
     "metadata": {
      "needs_background": "light"
     },
     "output_type": "display_data"
    },
    {
     "data": {
      "image/png": "[encoded data removed]",
      "text/plain": [
       "<Figure size 432x288 with 1 Axes>"
      ]
     },
     "metadata": {
      "needs_background": "light"
     },
     "output_type": "display_data"
    }
   ],
   "source": [
    "# Create axis and plot labels for each site that has highest frequecy of detection count\n",
    "\n",
    "py.title(\"Goodna\")\n",
    "py.xlabel(\"Month\")\n",
    "py.ylabel(\"Count\")\n",
    "x1 = Goodna['Month']\n",
    "y1 = Goodna['Result_enc']\n",
    "py.plot(x1, y1, 'o:r')\n",
    "py.show()\n",
    "\n",
    "\n",
    "py.title(\"Coombabah\")\n",
    "py.xlabel(\"Month\")\n",
    "py.ylabel(\"Count\")\n",
    "x2 = Coombabah['Month']\n",
    "y2 = Coombabah['Result_enc']\n",
    "py.plot(x2, y2, 'o:g')\n",
    "py.show()\n",
    "\n",
    "\n",
    "py.title(\"Loganholme\")\n",
    "py.xlabel(\"Month\")\n",
    "py.ylabel(\"Count\")\n",
    "x3 = Loganholme['Month']\n",
    "y3 = Loganholme['Result_enc']\n",
    "py.plot(x3, y3, 'o:b')\n",
    "py.show()\n",
    "\n",
    "py.title(\"Cairns_North\")\n",
    "py.xlabel(\"Month\")\n",
    "py.ylabel(\"Count\")\n",
    "x4 = Cairns_North['Month']\n",
    "y4 = Cairns_North['Result_enc']\n",
    "py.plot(x4, y4, 'o:c')\n",
    "py.show()\n",
    "\n",
    "py.title(\"Elanora\")\n",
    "py.xlabel(\"Month\")\n",
    "py.ylabel(\"Count\")\n",
    "x5 = Elanora['Month']\n",
    "y5 = Elanora['Result_enc']\n",
    "py.plot(x5, y5, 'o:m')\n",
    "py.show()\n",
    "\n",
    "py.title(\"Fairfield\")\n",
    "py.xlabel(\"Month\")\n",
    "py.ylabel(\"Count\")\n",
    "x6 = Fairfield['Month']\n",
    "y6 = Fairfield['Result_enc']\n",
    "py.plot(x6, y6, 'o:y')\n",
    "py.show()\n",
    "\n",
    "py.title(\"Wynnum\")\n",
    "py.xlabel(\"Month\")\n",
    "py.ylabel(\"Count\")\n",
    "x7 = Wynnum['Month']\n",
    "y7 = Wynnum['Result_enc']\n",
    "py.plot(x7, y7, 'o:k')\n",
    "py.show()"
   ]
  },
  {
   "cell_type": "markdown",
   "metadata": {},
   "source": [
    "**Visualization 2**"
   ]
  },
  {
   "cell_type": "code",
   "execution_count": 62,
   "metadata": {},
   "outputs": [
    {
     "data": {
      "image/png": "[encoded data removed]",
      "text/plain": [
       "<Figure size 640x480 with 1 Axes>"
      ]
     },
     "metadata": {},
     "output_type": "display_data"
    }
   ],
   "source": [
    "# The line graph visualization is depicting the monthly count of both the sample collection and detection\n",
    "py.title(\"Sample_count vs detected_count\")\n",
    "py.xlabel(\"Month\")\n",
    "py.ylabel(\"Count\")\n",
    "\n",
    "x1 = Data_count_summary['Months']\n",
    "y1 = Data_count_summary['Sample_count']\n",
    "x2 = Data_count_summary['Months']\n",
    "y2 = Data_count_summary['Detect_count']\n",
    "\n",
    "py.plot(x1, y1, x2, y2)\n",
    "py.show()"
   ]
  },
  {
   "cell_type": "markdown",
   "metadata": {},
   "source": [
    "**Visualization 3**"
   ]
  },
  {
   "cell_type": "code",
   "execution_count": 89,
   "metadata": {},
   "outputs": [
    {
     "data": {
      "image/png": "[encoded data removed]",
      "text/plain": [
       "<Figure size 800x400 with 2 Axes>"
      ]
     },
     "metadata": {},
     "output_type": "display_data"
    }
   ],
   "source": [
    "# Displaying the heat map viz for the correlation coefficient found in the 3rd analysis\n",
    "\n",
    "py.figure(figsize=(8, 4)) # Increase the size of the heatmap.\n",
    "heatmap = sns.heatmap(Correlation_data , vmin= -1, vmax=1, annot=True) # Set the range of values on the colormap from -1 to 1\n",
    "heatmap.set_title('Correlation Heatmap', fontdict={'fontsize':12}, pad=12);  # Give a title to the heatmap."
   ]
  },
  {
   "cell_type": "code",
   "execution_count": 20,
   "metadata": {},
   "outputs": [
    {
     "data": {
      "image/png": "[encoded data removed]",
      "text/plain": [
       "<Figure size 432x288 with 1 Axes>"
      ]
     },
     "metadata": {
      "needs_background": "light"
     },
     "output_type": "display_data"
    }
   ],
   "source": [
    "# A better way of looking at the correlation between the variables, visually, is a scatter plot \n",
    "X = Data_count_summary['Sample_count']\n",
    "Y = Data_count_summary['Detect_count']\n",
    "py.scatter(X, Y)\n",
    "py.title('Correlation')\n",
    "py.xlabel('Sample_count')\n",
    "py.ylabel('Detect_count')\n",
    "z = np.polyfit(X, Y, 1)\n",
    "p = np.poly1d(z)\n",
    "py.plot(X,p(X),\"g--\")\n",
    "py.show()"
   ]
  },
  {
   "cell_type": "markdown",
   "metadata": {},
   "source": [
    "### 1.5 Insight"
   ]
  },
  {
   "cell_type": "markdown",
   "metadata": {},
   "source": [
    "Based on the analysis and corresponding visualization done on the Queensland Health waste water surveilance dataset, I have come up with few insights which needs to be addressed to my stakeholder,i.e., the Queensland govt.\n",
    "My findings are as follows:\n",
    "\n",
    "1) The waste water plan sites that has detected more than 5 times for genetic material (SARS) are ones that needs to be evaluated for reanalysis with utmost care.\n",
    "\n",
    "2) During the analysis for monthly detection count it was found that many sites weren't analysed at some reasonable frequecy of sampling count.\n",
    "\n",
    "3) As we found that the sampling frequency was having a moderate relationship with the detection count for the collected samples (about 0.5 correlation), it is highly recommended to increase the overall sample collection count in future to get better results of genetic material detection"
   ]
  }
 ],
 "metadata": {
  "kernelspec": {
   "display_name": "Python 3",
   "language": "python",
   "name": "python3"
  },
  "language_info": {
   "codemirror_mode": {
    "name": "ipython",
    "version": 3
   },
   "file_extension": ".py",
   "mimetype": "text/x-python",
   "name": "python",
   "nbconvert_exporter": "python",
   "pygments_lexer": "ipython3",
   "version": "3.10.11"
  }
 },
 "nbformat": 4,
 "nbformat_minor": 4
}
